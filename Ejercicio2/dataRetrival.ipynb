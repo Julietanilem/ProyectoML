{
 "cells": [
  {
   "cell_type": "code",
   "execution_count": 30,
   "id": "e418986b-481a-4d6b-9648-d3f6f2485830",
   "metadata": {},
   "outputs": [],
   "source": [
    "import pandas as pd\n",
    "import tweepy\n",
    "import json\n",
    "import re"
   ]
  },
  {
   "cell_type": "markdown",
   "id": "9c1f2a4f-22a9-43fb-af35-95bd97a2d4dc",
   "metadata": {},
   "source": [
    "with open(\"tokens.json\") as f:\n",
    "    tokens = json.load(f)\n",
    "    bearer_token = tokens[\"bearer_token\"]\n",
    "    scrap = tweepy.Client(bearer_token=bearer_token)\n",
    "    \n",
    "emojis = {\n",
    "    \"😊\": [\"😊\", \"😁\"], \n",
    "    \"😢\": [\"😢\",\"😭\"],  \n",
    "    \"😡\": [\"😡\", \"😤\"],  \n",
    "    \"😲\": [\"😲\", \"🤯\"],  \n",
    "    \"❤️\": [\"❤️\",\"💕\"],  \n",
    "    \"🍔\": [\"🍔\", \"🍟\"], \n",
    "    \"⚽\": [\"⚽\", \"🏀\"],\n",
    "    \"🎶\": [\"🎶\", \"🎧\"]\n",
    "}\n",
    "\n",
    "tweets = []\n",
    "for emoji in emojis.keys():\n",
    "    print(emoji)\n",
    "    # Primero buscamos todos los twits con alguno de los felices\n",
    "    query = f\"({' OR '.join(emojis[emoji])}) lang:es\"\n",
    "    print(query)\n",
    "    result = scrap.search_recent_tweets(\n",
    "                        query=query,\n",
    "                        max_results=11,\n",
    "                        tweet_fields=[\"text\"]\n",
    "                        )\n",
    "    if result.data:  \n",
    "        for tweet in result.data:\n",
    "            print(tweet)\n",
    "            registro = {\n",
    "                \"emoji\": emoji,\n",
    "                \"tweet\": re.sub(r'[^\\x00-\\x7F]+', '', tweet.text) \n",
    "            }\n",
    "            tweets.append(registro)\n",
    "\n",
    "if tweets:\n",
    "    tweets_df = pd.DataFrame(tweets)\n",
    "    archivo = \"tweets.csv\"\n",
    "    tweets_df.to_csv(archivo, index=False)\n",
    "    print(f\"Los tweets han sido guardados en {archivo}\")\n",
    "else:\n",
    "    print(\"No se encontraron tweets para guardar.\")"
   ]
  },
  {
   "cell_type": "code",
   "execution_count": null,
   "id": "1d8d29ca-651a-4d60-b4b6-b3d262f371eb",
   "metadata": {},
   "outputs": [],
   "source": []
  }
 ],
 "metadata": {
  "kernelspec": {
   "display_name": "Python 3 (ipykernel)",
   "language": "python",
   "name": "python3"
  },
  "language_info": {
   "codemirror_mode": {
    "name": "ipython",
    "version": 3
   },
   "file_extension": ".py",
   "mimetype": "text/x-python",
   "name": "python",
   "nbconvert_exporter": "python",
   "pygments_lexer": "ipython3",
   "version": "3.11.9"
  }
 },
 "nbformat": 4,
 "nbformat_minor": 5
}
