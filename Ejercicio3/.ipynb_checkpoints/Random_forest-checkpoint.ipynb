{
 "cells": [
  {
   "cell_type": "markdown",
   "id": "66af7dca-c987-45cb-b2d3-fba0f7d34141",
   "metadata": {},
   "source": [
    "# Ejercicio 3: Clasificación de videojuegos por popularidad. | Bosques aleatorios (Random Forest)"
   ]
  },
  {
   "cell_type": "code",
   "execution_count": null,
   "id": "8f8cd236-2ff6-4d5f-8ad0-7ba4460689fd",
   "metadata": {},
   "outputs": [],
   "source": [
    "Julieta Melina Flores Morán"
   ]
  },
  {
   "cell_type": "markdown",
   "id": "9febd76e-2f3a-43ed-9e69-2a3cd6c703d2",
   "metadata": {},
   "source": [
    "#### **Descripción**:\n",
    "Clasifica videojuegos como \"muy populares\", \"moderadamente populares\" o \"men\n",
    "populares\" basándote en ventas, calificaciones y datos de usuarios activo"
   ]
  },
  {
   "cell_type": "markdown",
   "id": "11d8bebb-61bf-4a5e-83d6-9a75cb839a21",
   "metadata": {},
   "source": [
    "#### **Pasos:**\n",
    "- Usa el dataset de [Video Game Sales](https://www.kaggle.com/datasets/asaniczka/video-game-sales-2024) en Kaggle.\n",
    "- Limpia los datos.\n",
    "- Analiza las variables más importantes para la clasificació\n",
    "- Aplica Random Forest para clasificar y analiza la importancia de las característica\n",
    "- Presenta los resultados con gráficos y presenta tu análisi"
   ]
  },
  {
   "cell_type": "code",
   "execution_count": null,
   "id": "3080fe71-1a16-48c0-b559-91a84d5942f3",
   "metadata": {},
   "outputs": [],
   "source": [
    "import "
   ]
  }
 ],
 "metadata": {
  "kernelspec": {
   "display_name": "Python 3 (ipykernel)",
   "language": "python",
   "name": "python3"
  },
  "language_info": {
   "codemirror_mode": {
    "name": "ipython",
    "version": 3
   },
   "file_extension": ".py",
   "mimetype": "text/x-python",
   "name": "python",
   "nbconvert_exporter": "python",
   "pygments_lexer": "ipython3",
   "version": "3.11.9"
  }
 },
 "nbformat": 4,
 "nbformat_minor": 5
}
