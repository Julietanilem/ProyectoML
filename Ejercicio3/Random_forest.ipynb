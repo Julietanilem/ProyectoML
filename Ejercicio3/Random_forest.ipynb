{
 "cells": [
  {
   "cell_type": "markdown",
   "id": "66af7dca-c987-45cb-b2d3-fba0f7d34141",
   "metadata": {},
   "source": [
    "# Ejercicio 3: Clasificación de videojuegos por popularidad. | Bosques aleatorios (Random Forest)"
   ]
  },
  {
   "cell_type": "markdown",
   "id": "e932ec4b-8554-45bc-b0c0-0d64ce0440b4",
   "metadata": {},
   "source": [
    "Julieta Melina Flores Morán"
   ]
  },
  {
   "cell_type": "markdown",
   "id": "9febd76e-2f3a-43ed-9e69-2a3cd6c703d2",
   "metadata": {},
   "source": [
    "#### **Descripción**:\n",
    "Clasifica videojuegos como \"muy populares\", \"moderadamente populares\" o \"menos\n",
    "populares\" basándote en ventas, calificaciones y datos de usuarios activos"
   ]
  },
  {
   "cell_type": "markdown",
   "id": "11d8bebb-61bf-4a5e-83d6-9a75cb839a21",
   "metadata": {},
   "source": [
    "#### **Pasos:**\n",
    "- Usa el dataset de [Video Game Sales](https://www.kaggle.com/datasets/asaniczka/video-game-sales-2024) en Kaggle.\n",
    "- Limpia los datos.\n",
    "- Analiza las variables más importantes para la clasificación\n",
    "- Aplica Random Forest para clasificar y analiza la importancia de las característica\n",
    "- Presenta los resultados con gráficos y presenta tu análisis"
   ]
  },
  {
   "cell_type": "markdown",
   "id": "52677024-0351-49ef-93ae-32a970383913",
   "metadata": {},
   "source": [
    "Lo primero que hacemos es cargar el dataset"
   ]
  },
  {
   "cell_type": "code",
   "execution_count": 1,
   "id": "3080fe71-1a16-48c0-b559-91a84d5942f3",
   "metadata": {},
   "outputs": [],
   "source": [
    "import pandas as pd\n",
    "import numpy as np\n",
    "\n",
    "import matplotlib.pyplot as plt\n",
    "import seaborn as sns\n",
    "\n",
    "import scipy.stats as stats\n",
    "from sklearn.preprocessing import LabelEncoder\n",
    "from sklearn.preprocessing import StandardScaler\n",
    "from sklearn.model_selection import train_test_split\n",
    "from sklearn.ensemble import RandomForestClassifier\n",
    "from sklearn.metrics import classification_report, confusion_matrix, accuracy_score"
   ]
  },
  {
   "cell_type": "code",
   "execution_count": 2,
   "id": "16383633-1282-4d73-8961-6c6a2b471c91",
   "metadata": {},
   "outputs": [],
   "source": [
    "# Leemos el dataset que tenemos como csv\n",
    "file = \"vgchartz-2024.csv\"\n",
    "df = pd.read_csv(file)"
   ]
  },
  {
   "cell_type": "code",
   "execution_count": 3,
   "id": "1e9204c8-e90a-4d06-8555-1f2d778fe2ee",
   "metadata": {},
   "outputs": [
    {
     "data": {
      "text/plain": [
       "(64016, 14)"
      ]
     },
     "execution_count": 3,
     "metadata": {},
     "output_type": "execute_result"
    }
   ],
   "source": [
    "# información básica del dataset\n",
    "df.shape"
   ]
  },
  {
   "cell_type": "code",
   "execution_count": 4,
   "id": "e351023a-2e54-43f9-b75d-4667b0949355",
   "metadata": {},
   "outputs": [
    {
     "name": "stdout",
     "output_type": "stream",
     "text": [
      "==========Carácteristicas=======\n",
      "<class 'pandas.core.frame.DataFrame'>\n",
      "RangeIndex: 64016 entries, 0 to 64015\n",
      "Data columns (total 14 columns):\n",
      " #   Column        Non-Null Count  Dtype  \n",
      "---  ------        --------------  -----  \n",
      " 0   img           64016 non-null  object \n",
      " 1   title         64016 non-null  object \n",
      " 2   console       64016 non-null  object \n",
      " 3   genre         64016 non-null  object \n",
      " 4   publisher     64016 non-null  object \n",
      " 5   developer     63999 non-null  object \n",
      " 6   critic_score  6678 non-null   float64\n",
      " 7   total_sales   18922 non-null  float64\n",
      " 8   na_sales      12637 non-null  float64\n",
      " 9   jp_sales      6726 non-null   float64\n",
      " 10  pal_sales     12824 non-null  float64\n",
      " 11  other_sales   15128 non-null  float64\n",
      " 12  release_date  56965 non-null  object \n",
      " 13  last_update   17879 non-null  object \n",
      "dtypes: float64(6), object(8)\n",
      "memory usage: 6.8+ MB\n"
     ]
    }
   ],
   "source": [
    "print('==========Carácteristicas=======')\n",
    "df.info()"
   ]
  },
  {
   "cell_type": "code",
   "execution_count": 5,
   "id": "75765fff-af30-4edf-baf5-07359815c981",
   "metadata": {},
   "outputs": [
    {
     "data": {
      "text/html": [
       "<div>\n",
       "<style scoped>\n",
       "    .dataframe tbody tr th:only-of-type {\n",
       "        vertical-align: middle;\n",
       "    }\n",
       "\n",
       "    .dataframe tbody tr th {\n",
       "        vertical-align: top;\n",
       "    }\n",
       "\n",
       "    .dataframe thead th {\n",
       "        text-align: right;\n",
       "    }\n",
       "</style>\n",
       "<table border=\"1\" class=\"dataframe\">\n",
       "  <thead>\n",
       "    <tr style=\"text-align: right;\">\n",
       "      <th></th>\n",
       "      <th>critic_score</th>\n",
       "      <th>total_sales</th>\n",
       "      <th>na_sales</th>\n",
       "      <th>jp_sales</th>\n",
       "      <th>pal_sales</th>\n",
       "      <th>other_sales</th>\n",
       "    </tr>\n",
       "  </thead>\n",
       "  <tbody>\n",
       "    <tr>\n",
       "      <th>count</th>\n",
       "      <td>6678.000000</td>\n",
       "      <td>18922.000000</td>\n",
       "      <td>12637.000000</td>\n",
       "      <td>6726.000000</td>\n",
       "      <td>12824.000000</td>\n",
       "      <td>15128.000000</td>\n",
       "    </tr>\n",
       "    <tr>\n",
       "      <th>mean</th>\n",
       "      <td>7.220440</td>\n",
       "      <td>0.349113</td>\n",
       "      <td>0.264740</td>\n",
       "      <td>0.102281</td>\n",
       "      <td>0.149472</td>\n",
       "      <td>0.043041</td>\n",
       "    </tr>\n",
       "    <tr>\n",
       "      <th>std</th>\n",
       "      <td>1.457066</td>\n",
       "      <td>0.807462</td>\n",
       "      <td>0.494787</td>\n",
       "      <td>0.168811</td>\n",
       "      <td>0.392653</td>\n",
       "      <td>0.126643</td>\n",
       "    </tr>\n",
       "    <tr>\n",
       "      <th>min</th>\n",
       "      <td>1.000000</td>\n",
       "      <td>0.000000</td>\n",
       "      <td>0.000000</td>\n",
       "      <td>0.000000</td>\n",
       "      <td>0.000000</td>\n",
       "      <td>0.000000</td>\n",
       "    </tr>\n",
       "    <tr>\n",
       "      <th>25%</th>\n",
       "      <td>6.400000</td>\n",
       "      <td>0.030000</td>\n",
       "      <td>0.050000</td>\n",
       "      <td>0.020000</td>\n",
       "      <td>0.010000</td>\n",
       "      <td>0.000000</td>\n",
       "    </tr>\n",
       "    <tr>\n",
       "      <th>50%</th>\n",
       "      <td>7.500000</td>\n",
       "      <td>0.120000</td>\n",
       "      <td>0.120000</td>\n",
       "      <td>0.040000</td>\n",
       "      <td>0.040000</td>\n",
       "      <td>0.010000</td>\n",
       "    </tr>\n",
       "    <tr>\n",
       "      <th>75%</th>\n",
       "      <td>8.300000</td>\n",
       "      <td>0.340000</td>\n",
       "      <td>0.280000</td>\n",
       "      <td>0.120000</td>\n",
       "      <td>0.140000</td>\n",
       "      <td>0.030000</td>\n",
       "    </tr>\n",
       "    <tr>\n",
       "      <th>max</th>\n",
       "      <td>10.000000</td>\n",
       "      <td>20.320000</td>\n",
       "      <td>9.760000</td>\n",
       "      <td>2.130000</td>\n",
       "      <td>9.850000</td>\n",
       "      <td>3.120000</td>\n",
       "    </tr>\n",
       "  </tbody>\n",
       "</table>\n",
       "</div>"
      ],
      "text/plain": [
       "       critic_score   total_sales      na_sales     jp_sales     pal_sales  \\\n",
       "count   6678.000000  18922.000000  12637.000000  6726.000000  12824.000000   \n",
       "mean       7.220440      0.349113      0.264740     0.102281      0.149472   \n",
       "std        1.457066      0.807462      0.494787     0.168811      0.392653   \n",
       "min        1.000000      0.000000      0.000000     0.000000      0.000000   \n",
       "25%        6.400000      0.030000      0.050000     0.020000      0.010000   \n",
       "50%        7.500000      0.120000      0.120000     0.040000      0.040000   \n",
       "75%        8.300000      0.340000      0.280000     0.120000      0.140000   \n",
       "max       10.000000     20.320000      9.760000     2.130000      9.850000   \n",
       "\n",
       "        other_sales  \n",
       "count  15128.000000  \n",
       "mean       0.043041  \n",
       "std        0.126643  \n",
       "min        0.000000  \n",
       "25%        0.000000  \n",
       "50%        0.010000  \n",
       "75%        0.030000  \n",
       "max        3.120000  "
      ]
     },
     "execution_count": 5,
     "metadata": {},
     "output_type": "execute_result"
    }
   ],
   "source": [
    "numericas = df.select_dtypes(include=['number'])\n",
    "categoricas =  df.select_dtypes(include=['object'])\n",
    "df.describe()"
   ]
  },
  {
   "cell_type": "code",
   "execution_count": 6,
   "id": "dacb2ffd-0d18-4178-9377-c3e10b878189",
   "metadata": {},
   "outputs": [
    {
     "data": {
      "text/html": [
       "<div>\n",
       "<style scoped>\n",
       "    .dataframe tbody tr th:only-of-type {\n",
       "        vertical-align: middle;\n",
       "    }\n",
       "\n",
       "    .dataframe tbody tr th {\n",
       "        vertical-align: top;\n",
       "    }\n",
       "\n",
       "    .dataframe thead th {\n",
       "        text-align: right;\n",
       "    }\n",
       "</style>\n",
       "<table border=\"1\" class=\"dataframe\">\n",
       "  <thead>\n",
       "    <tr style=\"text-align: right;\">\n",
       "      <th></th>\n",
       "      <th>img</th>\n",
       "      <th>title</th>\n",
       "      <th>console</th>\n",
       "      <th>genre</th>\n",
       "      <th>publisher</th>\n",
       "      <th>developer</th>\n",
       "      <th>release_date</th>\n",
       "      <th>last_update</th>\n",
       "    </tr>\n",
       "  </thead>\n",
       "  <tbody>\n",
       "    <tr>\n",
       "      <th>count</th>\n",
       "      <td>64016</td>\n",
       "      <td>64016</td>\n",
       "      <td>64016</td>\n",
       "      <td>64016</td>\n",
       "      <td>64016</td>\n",
       "      <td>63999</td>\n",
       "      <td>56965</td>\n",
       "      <td>17879</td>\n",
       "    </tr>\n",
       "    <tr>\n",
       "      <th>unique</th>\n",
       "      <td>56177</td>\n",
       "      <td>39798</td>\n",
       "      <td>81</td>\n",
       "      <td>20</td>\n",
       "      <td>3383</td>\n",
       "      <td>8862</td>\n",
       "      <td>7922</td>\n",
       "      <td>1545</td>\n",
       "    </tr>\n",
       "    <tr>\n",
       "      <th>top</th>\n",
       "      <td>/games/boxart/default.jpg</td>\n",
       "      <td>Plants vs. Zombies</td>\n",
       "      <td>PC</td>\n",
       "      <td>Misc</td>\n",
       "      <td>Unknown</td>\n",
       "      <td>Unknown</td>\n",
       "      <td>1994-01-01</td>\n",
       "      <td>2018-01-06</td>\n",
       "    </tr>\n",
       "    <tr>\n",
       "      <th>freq</th>\n",
       "      <td>7810</td>\n",
       "      <td>17</td>\n",
       "      <td>12617</td>\n",
       "      <td>9304</td>\n",
       "      <td>8842</td>\n",
       "      <td>4435</td>\n",
       "      <td>515</td>\n",
       "      <td>165</td>\n",
       "    </tr>\n",
       "  </tbody>\n",
       "</table>\n",
       "</div>"
      ],
      "text/plain": [
       "                              img               title console  genre  \\\n",
       "count                       64016               64016   64016  64016   \n",
       "unique                      56177               39798      81     20   \n",
       "top     /games/boxart/default.jpg  Plants vs. Zombies      PC   Misc   \n",
       "freq                         7810                  17   12617   9304   \n",
       "\n",
       "       publisher developer release_date last_update  \n",
       "count      64016     63999        56965       17879  \n",
       "unique      3383      8862         7922        1545  \n",
       "top      Unknown   Unknown   1994-01-01  2018-01-06  \n",
       "freq        8842      4435          515         165  "
      ]
     },
     "execution_count": 6,
     "metadata": {},
     "output_type": "execute_result"
    }
   ],
   "source": [
    "categoricas.describe()"
   ]
  },
  {
   "cell_type": "code",
   "execution_count": 7,
   "id": "a1a5f9fd-4e73-442b-a8dd-a24b90650228",
   "metadata": {},
   "outputs": [
    {
     "data": {
      "text/html": [
       "<div>\n",
       "<style scoped>\n",
       "    .dataframe tbody tr th:only-of-type {\n",
       "        vertical-align: middle;\n",
       "    }\n",
       "\n",
       "    .dataframe tbody tr th {\n",
       "        vertical-align: top;\n",
       "    }\n",
       "\n",
       "    .dataframe thead th {\n",
       "        text-align: right;\n",
       "    }\n",
       "</style>\n",
       "<table border=\"1\" class=\"dataframe\">\n",
       "  <thead>\n",
       "    <tr style=\"text-align: right;\">\n",
       "      <th></th>\n",
       "      <th>img</th>\n",
       "      <th>title</th>\n",
       "      <th>console</th>\n",
       "      <th>genre</th>\n",
       "      <th>publisher</th>\n",
       "      <th>developer</th>\n",
       "      <th>critic_score</th>\n",
       "      <th>total_sales</th>\n",
       "      <th>na_sales</th>\n",
       "      <th>jp_sales</th>\n",
       "      <th>pal_sales</th>\n",
       "      <th>other_sales</th>\n",
       "      <th>release_date</th>\n",
       "      <th>last_update</th>\n",
       "    </tr>\n",
       "  </thead>\n",
       "  <tbody>\n",
       "    <tr>\n",
       "      <th>0</th>\n",
       "      <td>/games/boxart/full_6510540AmericaFrontccc.jpg</td>\n",
       "      <td>Grand Theft Auto V</td>\n",
       "      <td>PS3</td>\n",
       "      <td>Action</td>\n",
       "      <td>Rockstar Games</td>\n",
       "      <td>Rockstar North</td>\n",
       "      <td>9.4</td>\n",
       "      <td>20.32</td>\n",
       "      <td>6.37</td>\n",
       "      <td>0.99</td>\n",
       "      <td>9.85</td>\n",
       "      <td>3.12</td>\n",
       "      <td>2013-09-17</td>\n",
       "      <td>NaN</td>\n",
       "    </tr>\n",
       "    <tr>\n",
       "      <th>1</th>\n",
       "      <td>/games/boxart/full_5563178AmericaFrontccc.jpg</td>\n",
       "      <td>Grand Theft Auto V</td>\n",
       "      <td>PS4</td>\n",
       "      <td>Action</td>\n",
       "      <td>Rockstar Games</td>\n",
       "      <td>Rockstar North</td>\n",
       "      <td>9.7</td>\n",
       "      <td>19.39</td>\n",
       "      <td>6.06</td>\n",
       "      <td>0.60</td>\n",
       "      <td>9.71</td>\n",
       "      <td>3.02</td>\n",
       "      <td>2014-11-18</td>\n",
       "      <td>2018-01-03</td>\n",
       "    </tr>\n",
       "    <tr>\n",
       "      <th>2</th>\n",
       "      <td>/games/boxart/827563ccc.jpg</td>\n",
       "      <td>Grand Theft Auto: Vice City</td>\n",
       "      <td>PS2</td>\n",
       "      <td>Action</td>\n",
       "      <td>Rockstar Games</td>\n",
       "      <td>Rockstar North</td>\n",
       "      <td>9.6</td>\n",
       "      <td>16.15</td>\n",
       "      <td>8.41</td>\n",
       "      <td>0.47</td>\n",
       "      <td>5.49</td>\n",
       "      <td>1.78</td>\n",
       "      <td>2002-10-28</td>\n",
       "      <td>NaN</td>\n",
       "    </tr>\n",
       "    <tr>\n",
       "      <th>3</th>\n",
       "      <td>/games/boxart/full_9218923AmericaFrontccc.jpg</td>\n",
       "      <td>Grand Theft Auto V</td>\n",
       "      <td>X360</td>\n",
       "      <td>Action</td>\n",
       "      <td>Rockstar Games</td>\n",
       "      <td>Rockstar North</td>\n",
       "      <td>NaN</td>\n",
       "      <td>15.86</td>\n",
       "      <td>9.06</td>\n",
       "      <td>0.06</td>\n",
       "      <td>5.33</td>\n",
       "      <td>1.42</td>\n",
       "      <td>2013-09-17</td>\n",
       "      <td>NaN</td>\n",
       "    </tr>\n",
       "    <tr>\n",
       "      <th>4</th>\n",
       "      <td>/games/boxart/full_4990510AmericaFrontccc.jpg</td>\n",
       "      <td>Call of Duty: Black Ops 3</td>\n",
       "      <td>PS4</td>\n",
       "      <td>Shooter</td>\n",
       "      <td>Activision</td>\n",
       "      <td>Treyarch</td>\n",
       "      <td>8.1</td>\n",
       "      <td>15.09</td>\n",
       "      <td>6.18</td>\n",
       "      <td>0.41</td>\n",
       "      <td>6.05</td>\n",
       "      <td>2.44</td>\n",
       "      <td>2015-11-06</td>\n",
       "      <td>2018-01-14</td>\n",
       "    </tr>\n",
       "  </tbody>\n",
       "</table>\n",
       "</div>"
      ],
      "text/plain": [
       "                                             img                        title  \\\n",
       "0  /games/boxart/full_6510540AmericaFrontccc.jpg           Grand Theft Auto V   \n",
       "1  /games/boxart/full_5563178AmericaFrontccc.jpg           Grand Theft Auto V   \n",
       "2                    /games/boxart/827563ccc.jpg  Grand Theft Auto: Vice City   \n",
       "3  /games/boxart/full_9218923AmericaFrontccc.jpg           Grand Theft Auto V   \n",
       "4  /games/boxart/full_4990510AmericaFrontccc.jpg    Call of Duty: Black Ops 3   \n",
       "\n",
       "  console    genre       publisher       developer  critic_score  total_sales  \\\n",
       "0     PS3   Action  Rockstar Games  Rockstar North           9.4        20.32   \n",
       "1     PS4   Action  Rockstar Games  Rockstar North           9.7        19.39   \n",
       "2     PS2   Action  Rockstar Games  Rockstar North           9.6        16.15   \n",
       "3    X360   Action  Rockstar Games  Rockstar North           NaN        15.86   \n",
       "4     PS4  Shooter      Activision        Treyarch           8.1        15.09   \n",
       "\n",
       "   na_sales  jp_sales  pal_sales  other_sales release_date last_update  \n",
       "0      6.37      0.99       9.85         3.12   2013-09-17         NaN  \n",
       "1      6.06      0.60       9.71         3.02   2014-11-18  2018-01-03  \n",
       "2      8.41      0.47       5.49         1.78   2002-10-28         NaN  \n",
       "3      9.06      0.06       5.33         1.42   2013-09-17         NaN  \n",
       "4      6.18      0.41       6.05         2.44   2015-11-06  2018-01-14  "
      ]
     },
     "execution_count": 7,
     "metadata": {},
     "output_type": "execute_result"
    }
   ],
   "source": [
    "df.head()"
   ]
  },
  {
   "cell_type": "markdown",
   "id": "a39a653b-b2cc-41cb-b60b-f0f72a098c2f",
   "metadata": {},
   "source": [
    "Empezamos con la limpieza de los datos:\n",
    "- Eliminar duplicados\n",
    "- Manejar valores faltantes\n",
    "- Normalizar\n",
    "- Transformar variables categoricas\n",
    "  "
   ]
  },
  {
   "cell_type": "markdown",
   "id": "5af77dd9-7451-4b2a-9885-7de6cb7cd907",
   "metadata": {},
   "source": [
    "Notamos que la columna de imágen contiene rutas a imagenes que no podemos analizar en este ejercicio. Por lo tanto la eliminamos pues no nos proporciona información relevante."
   ]
  },
  {
   "cell_type": "code",
   "execution_count": 8,
   "id": "b1cb850f-e8ed-4ed0-bb64-26faf1f3b0d7",
   "metadata": {},
   "outputs": [],
   "source": [
    "# Eliminamos columna img\n",
    "df.drop('img', axis=1, inplace=True)"
   ]
  },
  {
   "cell_type": "code",
   "execution_count": 9,
   "id": "31c4fd28-2ca7-445d-8f02-8306621782fd",
   "metadata": {},
   "outputs": [
    {
     "data": {
      "text/plain": [
       "True"
      ]
     },
     "execution_count": 9,
     "metadata": {},
     "output_type": "execute_result"
    }
   ],
   "source": [
    "# Eliminación de duplicados\n",
    "df.duplicated().any()"
   ]
  },
  {
   "cell_type": "code",
   "execution_count": 10,
   "id": "de322f04-a95f-4751-8fa3-389d8ec17fd1",
   "metadata": {},
   "outputs": [
    {
     "data": {
      "text/plain": [
       "18"
      ]
     },
     "execution_count": 10,
     "metadata": {},
     "output_type": "execute_result"
    }
   ],
   "source": [
    "df.duplicated().sum()"
   ]
  },
  {
   "cell_type": "code",
   "execution_count": 11,
   "id": "6b1ac837-9866-4f0d-a1e4-c2c64bee6ee6",
   "metadata": {},
   "outputs": [],
   "source": [
    "df.drop_duplicates(inplace=True)"
   ]
  },
  {
   "cell_type": "code",
   "execution_count": 12,
   "id": "83c39dca-eb44-41b2-8a41-6f08747dc82a",
   "metadata": {},
   "outputs": [
    {
     "data": {
      "text/plain": [
       "title               0\n",
       "console             0\n",
       "genre               0\n",
       "publisher           0\n",
       "developer          17\n",
       "critic_score    57320\n",
       "total_sales     45079\n",
       "na_sales        51361\n",
       "jp_sales        57275\n",
       "pal_sales       51174\n",
       "other_sales     48870\n",
       "release_date     7051\n",
       "last_update     46120\n",
       "dtype: int64"
      ]
     },
     "execution_count": 12,
     "metadata": {},
     "output_type": "execute_result"
    }
   ],
   "source": [
    "# Manejar valores faltantes: Primero analizaremos si hay valores faltantes en cada columna\n",
    "df.isnull().sum()"
   ]
  },
  {
   "cell_type": "code",
   "execution_count": 13,
   "id": "e55ea531-39cf-4b4c-97d5-27e951c668e1",
   "metadata": {
    "scrolled": true
   },
   "outputs": [
    {
     "name": "stdout",
     "output_type": "stream",
     "text": [
      "Porcentaje de datos nulos por columna\n"
     ]
    },
    {
     "data": {
      "text/plain": [
       "title            0.000000\n",
       "console          0.000000\n",
       "genre            0.000000\n",
       "publisher        0.000000\n",
       "developer        0.026563\n",
       "critic_score    89.565299\n",
       "total_sales     70.438139\n",
       "na_sales        80.254070\n",
       "jp_sales        89.494984\n",
       "pal_sales       79.961874\n",
       "other_sales     76.361761\n",
       "release_date    11.017532\n",
       "last_update     72.064752\n",
       "dtype: float64"
      ]
     },
     "execution_count": 13,
     "metadata": {},
     "output_type": "execute_result"
    }
   ],
   "source": [
    "print('Porcentaje de datos nulos por columna')\n",
    "(df.isnull().sum() / len(df)) * 100"
   ]
  },
  {
   "cell_type": "markdown",
   "id": "06953883-c87e-4372-bbb2-85db4d172b7f",
   "metadata": {},
   "source": [
    "Podemos ver si la columna de total sales se puede rellenar con las regionales"
   ]
  },
  {
   "cell_type": "code",
   "execution_count": 14,
   "id": "ec231d30-befc-4dd7-9d04-a5f4dbc09c7a",
   "metadata": {},
   "outputs": [
    {
     "name": "stdout",
     "output_type": "stream",
     "text": [
      "45079\n",
      "45079\n"
     ]
    }
   ],
   "source": [
    "print(df['total_sales'].isnull().sum())\n",
    "\n",
    "df['total_sales'] = df.apply(\n",
    "    lambda row: (row['na_sales'] if pd.notnull(row['na_sales']) else 0) + \n",
    "                (row['jp_sales'] if pd.notnull(row['jp_sales']) else 0) + \n",
    "                (row['pal_sales'] if pd.notnull(row['pal_sales']) else 0) + \n",
    "                (row['other_sales'] if pd.notnull(row['other_sales']) else 0) \n",
    "                if pd.isnull(row['total_sales']) and \n",
    "                   (pd.notnull(row['na_sales']) or pd.notnull(row['jp_sales']) or pd.notnull(row['pal_sales']) or pd.notnull(row['other_sales']))\n",
    "                else row['total_sales'],\n",
    "    axis=1\n",
    ")\n",
    "\n",
    "print(df['total_sales'].isnull().sum())\n"
   ]
  },
  {
   "cell_type": "markdown",
   "id": "f0b22c26-0f0c-471f-ae2d-354b889846dc",
   "metadata": {},
   "source": [
    "Notamos que las filas con ventas regionales no aportan información adicional a las de ventas totales, entonces optamos por eliminarlas y centrarnos en las ventas totales."
   ]
  },
  {
   "cell_type": "code",
   "execution_count": 15,
   "id": "bb5dae4e-a6a6-4014-a7b8-8d236687595b",
   "metadata": {},
   "outputs": [],
   "source": [
    "df.drop(['pal_sales', 'na_sales', 'other_sales', 'jp_sales'], axis=1, inplace=True)"
   ]
  },
  {
   "cell_type": "markdown",
   "id": "677c64fa-96f5-41a6-b472-11f98a8bbb16",
   "metadata": {},
   "source": [
    "```critic_score```  y  ```total_sales``` son columnas escenciales para el analisis de popularidad, pero tienen un gran numero de valores nulos,  por lo tanto optaremos por imputar los datos promedio"
   ]
  },
  {
   "cell_type": "code",
   "execution_count": 16,
   "id": "353a89ad-c253-400a-a4c7-6ba705534c77",
   "metadata": {},
   "outputs": [],
   "source": [
    "df['critic_score'] = df['critic_score'].fillna(df['critic_score'].median())\n",
    "df['total_sales'] = df['total_sales'].fillna(df['total_sales'].median())"
   ]
  },
  {
   "cell_type": "markdown",
   "id": "f7a8adea-d2d1-4a74-82a1-533f629fc7d5",
   "metadata": {},
   "source": [
    "La columna ```last_update```  tiene un porcentaje elevado de valores faltantes y no considero que afecte en el anális de popularidad así que optaré por eliminarla."
   ]
  },
  {
   "cell_type": "code",
   "execution_count": 17,
   "id": "adcf7207-6301-4718-872b-3568d8ff4899",
   "metadata": {},
   "outputs": [],
   "source": [
    "df.drop('last_update', axis=1, inplace=True)\n",
    "df.drop('release_date', axis=1, inplace=True)"
   ]
  },
  {
   "cell_type": "markdown",
   "id": "eb45bfab-4dac-4525-b562-60712668bef4",
   "metadata": {},
   "source": [
    "Finalmente creamos una categoria desconocido para los valores faltantes de ```developer```  y ```release_date``` "
   ]
  },
  {
   "cell_type": "code",
   "execution_count": 18,
   "id": "3b273e7c-3e75-4160-8d4d-d0aa2b37a09d",
   "metadata": {},
   "outputs": [],
   "source": [
    "df['developer'] = df['developer'].fillna('Desconocido')"
   ]
  },
  {
   "cell_type": "code",
   "execution_count": 19,
   "id": "7b21a319-8e60-466a-b45d-6f07b6078328",
   "metadata": {},
   "outputs": [
    {
     "name": "stdout",
     "output_type": "stream",
     "text": [
      "Porcentaje de datos nulos por columna\n"
     ]
    },
    {
     "data": {
      "text/plain": [
       "title           0.0\n",
       "console         0.0\n",
       "genre           0.0\n",
       "publisher       0.0\n",
       "developer       0.0\n",
       "critic_score    0.0\n",
       "total_sales     0.0\n",
       "dtype: float64"
      ]
     },
     "execution_count": 19,
     "metadata": {},
     "output_type": "execute_result"
    }
   ],
   "source": [
    "print('Porcentaje de datos nulos por columna')\n",
    "(df.isnull().sum() / len(df)) * 100"
   ]
  },
  {
   "cell_type": "markdown",
   "id": "03157093-450d-4f14-b1a9-fdaf8961adff",
   "metadata": {},
   "source": [
    "A mi parecer las columnas mas relevantes para la clasififación son console, genre, publisher, developer   , critic_score, release_date  las cuales afectan a total_sales que define la popularidad del juego con los usurios"
   ]
  },
  {
   "cell_type": "code",
   "execution_count": 20,
   "id": "07cd93a7-e779-4fd9-a8e9-f584baae07b0",
   "metadata": {},
   "outputs": [
    {
     "data": {
      "text/plain": [
       "popularity\n",
       "1    50649\n",
       "0     6969\n",
       "2     6380\n",
       "Name: count, dtype: int64"
      ]
     },
     "execution_count": 20,
     "metadata": {},
     "output_type": "execute_result"
    }
   ],
   "source": [
    "# Definir los percentiles para clasificar\n",
    "percentil_uno = df['total_sales'].quantile(0.10)  # 10% menos popular\n",
    "percentil_dos = df['total_sales'].quantile(0.90)  # 10% más popular\n",
    "\n",
    "# Función para clasificar la popularidad\n",
    "def clasificar_popularidad(fila):\n",
    "    if fila['total_sales'] > percentil_dos:\n",
    "        return 2\n",
    "    elif fila['total_sales'] > percentil_uno:\n",
    "        return 1\n",
    "    else:\n",
    "        return 0\n",
    "\n",
    "# Aplicar la función a cada fila y crear la columna 'popularity'\n",
    "df['popularity'] = df.apply(clasificar_popularidad, axis=1)\n",
    "df['popularity'].value_counts()"
   ]
  },
  {
   "cell_type": "code",
   "execution_count": 21,
   "id": "0879244c-27ab-4b80-92af-57ea2f73ba9d",
   "metadata": {},
   "outputs": [
    {
     "data": {
      "image/png": "[encoded data removed]",
      "text/plain": [
       "<Figure size 1000x600 with 1 Axes>"
      ]
     },
     "metadata": {},
     "output_type": "display_data"
    }
   ],
   "source": [
    "plt.figure(figsize=(10, 6))\n",
    "sns.histplot(df['total_sales'], bins=50, kde=True, color='skyblue', alpha=0.6)\n",
    "plt.axvline(percentil_uno, color='orange', linestyle='--', label='Percentil 10')\n",
    "plt.axvline(percentil_dos, color='green', linestyle='--', label='Percentil 90')\n",
    "plt.title('Distribución de Ventas Totales con Percentiles')\n",
    "plt.xlabel('Total Sales')\n",
    "plt.ylabel('Frecuencia')\n",
    "plt.legend()\n",
    "plt.show()\n"
   ]
  },
  {
   "cell_type": "code",
   "execution_count": 22,
   "id": "cb05fba5-f514-4214-8cdb-accb62911dfc",
   "metadata": {},
   "outputs": [],
   "source": [
    "# ya no neceitamos total_sales \n",
    "df.drop('total_sales', axis=1, inplace=True)\n",
    "df.drop('title', axis=1, inplace=True)"
   ]
  },
  {
   "cell_type": "code",
   "execution_count": 23,
   "id": "f72a8dc2-9902-436e-85be-75fe981755e3",
   "metadata": {},
   "outputs": [
    {
     "data": {
      "text/plain": [
       "<Axes: xlabel='popularity', ylabel='critic_score'>"
      ]
     },
     "execution_count": 23,
     "metadata": {},
     "output_type": "execute_result"
    },
    {
     "data": {
      "image/png": "[encoded data removed]",
      "text/plain": [
       "<Figure size 640x480 with 1 Axes>"
      ]
     },
     "metadata": {},
     "output_type": "display_data"
    }
   ],
   "source": [
    "sns.boxplot(x='popularity', y='critic_score', data=df)\n",
    "sns.countplot(x='popularity', hue='genre', data=df)\n"
   ]
  },
  {
   "cell_type": "code",
   "execution_count": 24,
   "id": "0f5f114c-15bc-4501-9e45-fab8dc38165e",
   "metadata": {},
   "outputs": [
    {
     "name": "stdout",
     "output_type": "stream",
     "text": [
      "<class 'pandas.core.frame.DataFrame'>\n",
      "Index: 63998 entries, 0 to 64015\n",
      "Data columns (total 6 columns):\n",
      " #   Column        Non-Null Count  Dtype  \n",
      "---  ------        --------------  -----  \n",
      " 0   console       63998 non-null  int64  \n",
      " 1   genre         63998 non-null  int64  \n",
      " 2   publisher     63998 non-null  int64  \n",
      " 3   developer     63998 non-null  int64  \n",
      " 4   critic_score  63998 non-null  float64\n",
      " 5   popularity    63998 non-null  int64  \n",
      "dtypes: float64(1), int64(5)\n",
      "memory usage: 3.4 MB\n"
     ]
    }
   ],
   "source": [
    "#codificamos y normalizamos\n",
    "encoder = LabelEncoder()\n",
    "for col in df.select_dtypes(include=['object']).columns:\n",
    "    df[col] = encoder.fit_transform(df[col])  \n",
    "df.info() "
   ]
  },
  {
   "cell_type": "code",
   "execution_count": 27,
   "id": "f323ced8-3d47-4862-9213-0dd129922a24",
   "metadata": {},
   "outputs": [
    {
     "data": {
      "text/html": [
       "<div>\n",
       "<style scoped>\n",
       "    .dataframe tbody tr th:only-of-type {\n",
       "        vertical-align: middle;\n",
       "    }\n",
       "\n",
       "    .dataframe tbody tr th {\n",
       "        vertical-align: top;\n",
       "    }\n",
       "\n",
       "    .dataframe thead th {\n",
       "        text-align: right;\n",
       "    }\n",
       "</style>\n",
       "<table border=\"1\" class=\"dataframe\">\n",
       "  <thead>\n",
       "    <tr style=\"text-align: right;\">\n",
       "      <th></th>\n",
       "      <th>console</th>\n",
       "      <th>genre</th>\n",
       "      <th>publisher</th>\n",
       "      <th>developer</th>\n",
       "      <th>critic_score</th>\n",
       "      <th>popularity</th>\n",
       "    </tr>\n",
       "  </thead>\n",
       "  <tbody>\n",
       "    <tr>\n",
       "      <th>count</th>\n",
       "      <td>6.399800e+04</td>\n",
       "      <td>6.399800e+04</td>\n",
       "      <td>6.399800e+04</td>\n",
       "      <td>6.399800e+04</td>\n",
       "      <td>6.399800e+04</td>\n",
       "      <td>63998.000000</td>\n",
       "    </tr>\n",
       "    <tr>\n",
       "      <th>mean</th>\n",
       "      <td>-1.403366e-16</td>\n",
       "      <td>-2.842260e-17</td>\n",
       "      <td>-6.217443e-17</td>\n",
       "      <td>-1.314545e-16</td>\n",
       "      <td>1.317210e-15</td>\n",
       "      <td>0.990797</td>\n",
       "    </tr>\n",
       "    <tr>\n",
       "      <th>std</th>\n",
       "      <td>1.000008e+00</td>\n",
       "      <td>1.000008e+00</td>\n",
       "      <td>1.000008e+00</td>\n",
       "      <td>1.000008e+00</td>\n",
       "      <td>1.000008e+00</td>\n",
       "      <td>0.456622</td>\n",
       "    </tr>\n",
       "    <tr>\n",
       "      <th>min</th>\n",
       "      <td>-2.577462e+00</td>\n",
       "      <td>-1.515729e+00</td>\n",
       "      <td>-1.749798e+00</td>\n",
       "      <td>-1.792466e+00</td>\n",
       "      <td>-1.352783e+01</td>\n",
       "      <td>0.000000</td>\n",
       "    </tr>\n",
       "    <tr>\n",
       "      <th>25%</th>\n",
       "      <td>-3.234009e-01</td>\n",
       "      <td>-1.188393e+00</td>\n",
       "      <td>-9.324599e-01</td>\n",
       "      <td>-9.203178e-01</td>\n",
       "      <td>6.098499e-02</td>\n",
       "      <td>1.000000</td>\n",
       "    </tr>\n",
       "    <tr>\n",
       "      <th>50%</th>\n",
       "      <td>5.227607e-02</td>\n",
       "      <td>1.209492e-01</td>\n",
       "      <td>1.016841e-01</td>\n",
       "      <td>6.507206e-02</td>\n",
       "      <td>6.098499e-02</td>\n",
       "      <td>1.000000</td>\n",
       "    </tr>\n",
       "    <tr>\n",
       "      <th>75%</th>\n",
       "      <td>5.352893e-01</td>\n",
       "      <td>9.392883e-01</td>\n",
       "      <td>9.660290e-01</td>\n",
       "      <td>9.383723e-01</td>\n",
       "      <td>6.098499e-02</td>\n",
       "      <td>1.000000</td>\n",
       "    </tr>\n",
       "    <tr>\n",
       "      <th>max</th>\n",
       "      <td>1.715988e+00</td>\n",
       "      <td>1.593960e+00</td>\n",
       "      <td>1.494613e+00</td>\n",
       "      <td>1.609374e+00</td>\n",
       "      <td>5.287453e+00</td>\n",
       "      <td>2.000000</td>\n",
       "    </tr>\n",
       "  </tbody>\n",
       "</table>\n",
       "</div>"
      ],
      "text/plain": [
       "            console         genre     publisher     developer  critic_score  \\\n",
       "count  6.399800e+04  6.399800e+04  6.399800e+04  6.399800e+04  6.399800e+04   \n",
       "mean  -1.403366e-16 -2.842260e-17 -6.217443e-17 -1.314545e-16  1.317210e-15   \n",
       "std    1.000008e+00  1.000008e+00  1.000008e+00  1.000008e+00  1.000008e+00   \n",
       "min   -2.577462e+00 -1.515729e+00 -1.749798e+00 -1.792466e+00 -1.352783e+01   \n",
       "25%   -3.234009e-01 -1.188393e+00 -9.324599e-01 -9.203178e-01  6.098499e-02   \n",
       "50%    5.227607e-02  1.209492e-01  1.016841e-01  6.507206e-02  6.098499e-02   \n",
       "75%    5.352893e-01  9.392883e-01  9.660290e-01  9.383723e-01  6.098499e-02   \n",
       "max    1.715988e+00  1.593960e+00  1.494613e+00  1.609374e+00  5.287453e+00   \n",
       "\n",
       "         popularity  \n",
       "count  63998.000000  \n",
       "mean       0.990797  \n",
       "std        0.456622  \n",
       "min        0.000000  \n",
       "25%        1.000000  \n",
       "50%        1.000000  \n",
       "75%        1.000000  \n",
       "max        2.000000  "
      ]
     },
     "execution_count": 27,
     "metadata": {},
     "output_type": "execute_result"
    }
   ],
   "source": [
    "popularity = df['popularity']\n",
    "cols = df.select_dtypes(include=['number']).columns\n",
    "cols = cols.drop('popularity') \n",
    "scaler = StandardScaler()\n",
    "df_scaled = scaler.fit_transform(df[cols])\n",
    "df[cols] = df_scaled \n",
    "df['popularity'] = popularity\n",
    "df.describe()"
   ]
  },
  {
   "cell_type": "code",
   "execution_count": 28,
   "id": "09a05a6a-a850-46d1-a2fa-4403e7a209cc",
   "metadata": {},
   "outputs": [
    {
     "data": {
      "text/plain": [
       "<Axes: >"
      ]
     },
     "execution_count": 28,
     "metadata": {},
     "output_type": "execute_result"
    },
    {
     "data": {
      "image/png": "[encoded data removed]",
      "text/plain": [
       "<Figure size 640x480 with 2 Axes>"
      ]
     },
     "metadata": {},
     "output_type": "display_data"
    }
   ],
   "source": [
    "sns.heatmap(df.corr(), annot=True, cmap='coolwarm')\n"
   ]
  },
  {
   "cell_type": "code",
   "execution_count": 29,
   "id": "495d875c-d834-4af5-9308-8f7da562d70e",
   "metadata": {},
   "outputs": [
    {
     "data": {
      "text/html": [
       "<div>\n",
       "<style scoped>\n",
       "    .dataframe tbody tr th:only-of-type {\n",
       "        vertical-align: middle;\n",
       "    }\n",
       "\n",
       "    .dataframe tbody tr th {\n",
       "        vertical-align: top;\n",
       "    }\n",
       "\n",
       "    .dataframe thead th {\n",
       "        text-align: right;\n",
       "    }\n",
       "</style>\n",
       "<table border=\"1\" class=\"dataframe\">\n",
       "  <thead>\n",
       "    <tr style=\"text-align: right;\">\n",
       "      <th></th>\n",
       "      <th>console</th>\n",
       "      <th>genre</th>\n",
       "      <th>publisher</th>\n",
       "      <th>developer</th>\n",
       "      <th>critic_score</th>\n",
       "      <th>popularity</th>\n",
       "    </tr>\n",
       "  </thead>\n",
       "  <tbody>\n",
       "    <tr>\n",
       "      <th>console</th>\n",
       "      <td>1.000000</td>\n",
       "      <td>0.035209</td>\n",
       "      <td>0.061975</td>\n",
       "      <td>-0.013099</td>\n",
       "      <td>0.007761</td>\n",
       "      <td>0.044979</td>\n",
       "    </tr>\n",
       "    <tr>\n",
       "      <th>genre</th>\n",
       "      <td>0.035209</td>\n",
       "      <td>1.000000</td>\n",
       "      <td>-0.070670</td>\n",
       "      <td>-0.062927</td>\n",
       "      <td>0.017114</td>\n",
       "      <td>0.016347</td>\n",
       "    </tr>\n",
       "    <tr>\n",
       "      <th>publisher</th>\n",
       "      <td>0.061975</td>\n",
       "      <td>-0.070670</td>\n",
       "      <td>1.000000</td>\n",
       "      <td>0.332078</td>\n",
       "      <td>0.020715</td>\n",
       "      <td>-0.002790</td>\n",
       "    </tr>\n",
       "    <tr>\n",
       "      <th>developer</th>\n",
       "      <td>-0.013099</td>\n",
       "      <td>-0.062927</td>\n",
       "      <td>0.332078</td>\n",
       "      <td>1.000000</td>\n",
       "      <td>0.008645</td>\n",
       "      <td>0.009055</td>\n",
       "    </tr>\n",
       "    <tr>\n",
       "      <th>critic_score</th>\n",
       "      <td>0.007761</td>\n",
       "      <td>0.017114</td>\n",
       "      <td>0.020715</td>\n",
       "      <td>0.008645</td>\n",
       "      <td>1.000000</td>\n",
       "      <td>0.028489</td>\n",
       "    </tr>\n",
       "    <tr>\n",
       "      <th>popularity</th>\n",
       "      <td>0.044979</td>\n",
       "      <td>0.016347</td>\n",
       "      <td>-0.002790</td>\n",
       "      <td>0.009055</td>\n",
       "      <td>0.028489</td>\n",
       "      <td>1.000000</td>\n",
       "    </tr>\n",
       "  </tbody>\n",
       "</table>\n",
       "</div>"
      ],
      "text/plain": [
       "               console     genre  publisher  developer  critic_score  \\\n",
       "console       1.000000  0.035209   0.061975  -0.013099      0.007761   \n",
       "genre         0.035209  1.000000  -0.070670  -0.062927      0.017114   \n",
       "publisher     0.061975 -0.070670   1.000000   0.332078      0.020715   \n",
       "developer    -0.013099 -0.062927   0.332078   1.000000      0.008645   \n",
       "critic_score  0.007761  0.017114   0.020715   0.008645      1.000000   \n",
       "popularity    0.044979  0.016347  -0.002790   0.009055      0.028489   \n",
       "\n",
       "              popularity  \n",
       "console         0.044979  \n",
       "genre           0.016347  \n",
       "publisher      -0.002790  \n",
       "developer       0.009055  \n",
       "critic_score    0.028489  \n",
       "popularity      1.000000  "
      ]
     },
     "execution_count": 29,
     "metadata": {},
     "output_type": "execute_result"
    }
   ],
   "source": [
    "df.corr()"
   ]
  },
  {
   "cell_type": "code",
   "execution_count": 30,
   "id": "84e80f4e-f4d3-4c3c-92d5-4787b1fd1f2b",
   "metadata": {},
   "outputs": [],
   "source": [
    "# modelo\n",
    "X = df.drop([ 'popularity'], axis=1)\n",
    "y = df['popularity']\n",
    "\n",
    "X_train, X_test, y_train, y_test = train_test_split(X, y, test_size=0.3, random_state=42)\n"
   ]
  },
  {
   "cell_type": "code",
   "execution_count": 31,
   "id": "ded6d843-e70f-4edb-8789-3583911e0ede",
   "metadata": {},
   "outputs": [],
   "source": [
    "rf = RandomForestClassifier(n_estimators=150, random_state=42)\n",
    "rf.fit(X_train, y_train)\n",
    "\n",
    "y_pred = rf.predict(X_test)\n"
   ]
  },
  {
   "cell_type": "code",
   "execution_count": null,
   "id": "20e1b461-e128-4c63-b290-7f05090512a5",
   "metadata": {},
   "outputs": [],
   "source": [
    "# Evaluación del modelo\n",
    "print(\"Reporte de Clasificación:\\n\", classification_report(y_test, y_pred))\n",
    "print(\"Matriz de Confusión:\\n\", confusion_matrix(y_test, y_pred))\n",
    "print(\"Precisión del Modelo:\\n\", accuracy_score(y_test, y_pred))\n",
    "\n",
    "# Importancia de las características\n",
    "feature_importances = pd.DataFrame({\n",
    "    'Feature': X.columns,\n",
    "    'Importance': rf.feature_importances_\n",
    "}).sort_values(by='Importance', ascending=False)\n",
    "\n",
    "plt.figure(figsize=(12, 6))\n",
    "sns.barplot(x='Importance', y='Feature', data=feature_importances)\n",
    "plt.title('Importancia de las Características en Random Forest')\n",
    "plt.show()\n"
   ]
  }
 ],
 "metadata": {
  "kernelspec": {
   "display_name": "Python 3 (ipykernel)",
   "language": "python",
   "name": "python3"
  },
  "language_info": {
   "codemirror_mode": {
    "name": "ipython",
    "version": 3
   },
   "file_extension": ".py",
   "mimetype": "text/x-python",
   "name": "python",
   "nbconvert_exporter": "python",
   "pygments_lexer": "ipython3",
   "version": "3.11.9"
  }
 },
 "nbformat": 4,
 "nbformat_minor": 5
}
